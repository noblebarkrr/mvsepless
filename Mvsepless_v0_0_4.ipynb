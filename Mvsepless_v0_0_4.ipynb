{
  "nbformat": 4,
  "nbformat_minor": 0,
  "metadata": {
    "colab": {
      "provenance": [],
      "gpuType": "T4"
    },
    "kernelspec": {
      "name": "python3",
      "display_name": "Python 3"
    },
    "language_info": {
      "name": "python"
    },
    "accelerator": "GPU"
  },
  "cells": [
    {
      "cell_type": "code",
      "source": [
        "#@title Install MVSepLess\n",
        "msst = True #@param {type:\"boolean\"}\n",
        "uvr = True #@param {type:\"boolean\"}\n",
        "medley_vox = False #@param {type:\"boolean\"}\n",
        "import base64\n",
        "import sys\n",
        "%cd /content\n",
        "mvsepless_dir = \"/content/MVSEPLESS\"\n",
        "!git clone https://github.com/noblebarkrr/mvsepless $mvsepless_dir\n",
        "!git clone https://github.com/ZFTurbo/Music-Source-Separation-Training --branch v1.0.9 --single-branch /content/MVSEPLESS/msst\n",
        "!git clone -b colab-inference https://github.com/jarredou/Music-Source-Separation-Training /content/MVSEPLESS/msstnew\n",
        "!git clone https://github.com/CBeast25/MedleyVox /content/MVSEPLESS/medleyvox\n",
        "req = 'IyB0b3JjaCAjPT0yLjAuMQ0KbnVtcHkNCnBhbmRhcw0Kc2NpcHkNCnNvdW5kZmlsZQ0KbWxfY29sbGVjdGlvbnMNCnRxZG0NCnNlZ21lbnRhdGlvbl9tb2RlbHNfcHl0b3JjaD09MC4zLjMNCnRpbW09PTAuOS4yDQphdWRpb21lbnRhdGlvbnM9PTAuMjQuMA0KcGVkYWxib2FyZD09MC44LjENCm9tZWdhY29uZj09Mi4yLjMNCmJlYXJ0eXBlPT0wLjE0LjENCnJvdGFyeV9lbWJlZGRpbmdfdG9yY2g9PTAuMy41DQplaW5vcHM9PTAuNi4xDQpsaWJyb3NhDQpkZW11Y3MgIz09NC4wLjANCiMgdHJhbnNmb3JtZXJzPT00LjM1LjANCnRvcmNobWV0cmljcz09MC4xMS40DQpzcGFmZT09MC4zLjINCnByb3RvYnVmPT0zLjIwLjMNCnRvcmNoX2F1ZGlvbWVudGF0aW9ucw0KYXN0ZXJvaWQ9PTAuNy4wDQphdXJhbG9zcw0KdG9yY2hzZWcNCg=='\n",
        "dec_req = base64.b64decode(req).decode('utf-8')\n",
        "f = open(\"MVSEPLESS/msst/requirements.txt\", \"w\")\n",
        "f.write(dec_req)\n",
        "f.close()\n",
        "if medley_vox:\n",
        "    !mkdir -p {mvsepless_dir}/medleyvox/pretrained_models\n",
        "    !mkdir -p {mvsepless_dir}/medleyvox/model/checkpoint\n",
        "    !wget -O {mvsepless_dir}/medleyvox/pretrained_models/xlsr_53_56k.pt https://dl.fbaipublicfiles.com/fairseq/wav2vec/xlsr_53_56k.pt\n",
        "installed = False\n",
        "# param {type:\"boolean\"}\n",
        "if installed:\n",
        "    print(installed)\n",
        "else:\n",
        "    !sudo apt-get update\n",
        "    !sudo apt-get install python3.10\n",
        "    !sudo update-alternatives --install /usr/bin/python3 python3 /usr/bin/python3.10 1\n",
        "    !sudo update-alternatives --set python3 /usr/bin/python3.10\n",
        "    !curl https://bootstrap.pypa.io/get-pip.py -o get-pip.py\n",
        "    !python3.10 get-pip.py pip==24.0\n",
        "    !sudo apt install python3.10-venv\n",
        "venv = True\n",
        "# param {type:\"boolean\"}\n",
        "if venv:\n",
        "  !python -m venv /content/MVSEPLESS/msst/venv\n",
        "  !python -m venv /content/MVSEPLESS/uvr/venv\n",
        "  !python -m venv /content/MVSEPLESS/medleyvox/venv/\n",
        "if msst:\n",
        "    !/content/MVSEPLESS/msst/venv/bin/pip install -r /content/MVSEPLESS/msst/requirements.txt --no-cache-dir\n",
        "    !/content/MVSEPLESS/msst/venv/bin/pip install gradio\n",
        "    !/content/MVSEPLESS/msst/venv/bin/pip install pyyaml\n",
        "if uvr:\n",
        "    !/content/MVSEPLESS/uvr/venv/bin/pip install \"audio-separator[gpu]==0.28.5\"\n",
        "    !/content/MVSEPLESS/uvr/venv/bin/pip install demucs\n",
        "    !apt install aria2\n",
        "    %cd $mvsepless_dir\n",
        "    !aria2c https://huggingface.co/Eddycrack864/Drumsep/resolve/main/modelo_final.th -o drumsep.th\n",
        "if medley_vox:\n",
        "    !{mvsepless_dir}/medleyvox/venv/bin/pip install pip==23.0\n",
        "    !{mvsepless_dir}/medleyvox/venv/bin/pip install -r {mvsepless_dir}/requirements_medley_vox.txt"
      ],
      "metadata": {
        "id": "xKTPUiRjMvkP",
        "cellView": "form"
      },
      "execution_count": null,
      "outputs": []
    },
    {
      "cell_type": "code",
      "execution_count": null,
      "metadata": {
        "id": "DYyG7tFxK1rA",
        "cellView": "form"
      },
      "outputs": [],
      "source": [
        "#@title MVSEPLESS CLI\n",
        "%cd /content/\n",
        "input = \"/content/input\" # @param {\"type\":\"string\"}\n",
        "output = \"/content/output\" # @param {\"type\":\"string\"}\n",
        "model_code = 1100 # @param {\"type\":\"number\"}\n",
        "format = \"mp3\" # @param [\"mp3\",\"wav\",\"flac\"]\n",
        "separate = f\"--input {input} --output {output} --modelcode {model_code} --output_format {format}\"\n",
        "!/content/MVSEPLESS/msst/venv/bin/python /content/MVSEPLESS/main.py $separate"
      ]
    },
    {
      "cell_type": "code",
      "source": [
        "#@title MVSEPLESS NON-CLI\n",
        "non_player = True #@param {type:\"boolean\"}\n",
        "%cd /content\n",
        "if non_player:\n",
        "    !MVSEPLESS/msst/venv/bin/python /content/MVSEPLESS/mvsepless-no_player.py\n",
        "else:"
      ],
      "metadata": {
        "id": "EYzXjwQG_0VZ",
        "cellView": "form"
      },
      "execution_count": null,
      "outputs": []
    }
  ]
}