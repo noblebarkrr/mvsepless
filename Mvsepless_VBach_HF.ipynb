{
  "nbformat": 4,
  "nbformat_minor": 0,
  "metadata": {
    "colab": {
      "provenance": [],
      "collapsed_sections": [
        "NgxirB9htCf_",
        "n3PP3N-spH_0",
        "P3tLD2QXqyqp",
        "PTzLZWnWq3c8"
      ],
      "gpuType": "T4"
    },
    "kernelspec": {
      "name": "python3",
      "display_name": "Python 3"
    },
    "language_info": {
      "name": "python"
    },
    "accelerator": "GPU"
  },
  "cells": [
    {
      "cell_type": "code",
      "source": [
        "#@title # Установка (5 мин без претрейнов)\n",
        "%cd /content\n",
        "\n",
        "!git clone https://github.com/noblebarkrr/mvsepless -b alpha_hf\n",
        "# !curl -L https://github.com/noblebarkrr/vbach/archive/refs/heads/main.tar.gz | tar -xz --strip-components=1 -C /content/mvsepless\n",
        "!pip install gradio\n",
        "!pip install -r mvsepless/requirements.txt\n",
        "!pip install https://github.com/Bebra777228/TrainVocModel-EN/releases/download/fixed-packages/fairseq_fixed-0.13.0-cp311-cp311-linux_x86_64.whl\n",
        "!wget -O mvsepless/models/medley_vox/pretrained_models/xlsr_53_56k.pt https://dl.fbaipublicfiles.com/fairseq/wav2vec/xlsr_53_56k.pt\n",
        "!cd mvsepless && python download_models.py"
      ],
      "metadata": {
        "id": "dv_x3Jxopzg_",
        "cellView": "form"
      },
      "execution_count": null,
      "outputs": []
    },
    {
      "cell_type": "markdown",
      "source": [
        "# NON-CLI"
      ],
      "metadata": {
        "id": "HyxHY762qmyE"
      }
    },
    {
      "cell_type": "code",
      "source": [
        "# @title Mvsepless\n",
        "\n",
        "%cd /content/mvsepless\n",
        "!python multi_infer.py -gr"
      ],
      "metadata": {
        "cellView": "form",
        "id": "VNW0Op_Nsbql"
      },
      "execution_count": null,
      "outputs": []
    },
    {
      "cell_type": "code",
      "source": [
        "# @title Mvsepless & Vbach\n",
        "\n",
        "%cd /content/mvsepless\n",
        "!python multi_infer.py -grvc"
      ],
      "metadata": {
        "cellView": "form",
        "id": "TmxdFPBXXC-c"
      },
      "execution_count": null,
      "outputs": []
    },
    {
      "cell_type": "markdown",
      "source": [
        "# CLI"
      ],
      "metadata": {
        "id": "n3PP3N-spH_0"
      }
    },
    {
      "cell_type": "code",
      "source": [
        "# @title Объединить аудио файлы в ансамбль\n",
        "\n",
        "import os\n",
        "import numpy\n",
        "\n",
        "%cd /content/mvsepless\n",
        "\n",
        "from ensem import ensemble_audio_files\n",
        "from infer_utils.audio_processing.invert import invert_and_overlay_wav\n",
        "\n",
        "\n",
        "input = \"\" # @param {\"type\":\"string\",\"placeholder\":\"Введите путь к папке с результатами моделей\"}\n",
        "input_orig = \"\" # @param {\"type\":\"string\",\"placeholder\":\"Введите путь к оригинальному аудио\"}\n",
        "output = \"\" # @param {\"type\":\"string\",\"placeholder\":\"Введите путь к папке сохранения результатов\"}\n",
        "\n",
        "type = \"max_fft\" # @param [\"max_fft\",\"min_fft\",\"median_fft\",\"max_wave\",\"avg_fft\"]\n",
        "\n",
        "# Создаем выходную директорию, если ее нет\n",
        "os.makedirs(output, exist_ok=True)\n",
        "\n",
        "# Проверяем существование входной директории\n",
        "if not os.path.exists(input):\n",
        "    raise FileNotFoundError(f\"Input directory {input} does not exist\")\n",
        "\n",
        "# Получаем список файлов\n",
        "temp_ensem_files = [os.path.abspath(os.path.join(input, f))\n",
        "         for f in os.listdir(input)\n",
        "         if os.path.isfile(os.path.join(input, f))]\n",
        "\n",
        "if not temp_ensem_files:\n",
        "    raise ValueError(\"No files found in input directory\")\n",
        "\n",
        "weight_value = 1.0 # @param {\"type\":\"number\"}\n",
        "weights = [weight_value] * len(temp_ensem_files)\n",
        "\n",
        "output_file = os.path.join(output, \"output.wav\")\n",
        "inverted_file = os.path.join(output, \"inverted.wav\")\n",
        "\n",
        "ensemble_audio_files(files=temp_ensem_files, output=output_file, ensemble_type=type, weights=weights)\n",
        "if input_orig != \"\":\n",
        "    invert_and_overlay_wav(output_file, input_orig, inverted_file)"
      ],
      "metadata": {
        "cellView": "form",
        "id": "sOrwMYdj_cuF"
      },
      "execution_count": null,
      "outputs": []
    },
    {
      "cell_type": "markdown",
      "source": [
        "## Разделить аудио"
      ],
      "metadata": {
        "id": "P3tLD2QXqyqp"
      }
    },
    {
      "cell_type": "code",
      "source": [
        "# @title Получить список моделей\n",
        "\n",
        "%cd /content/mvsepless\n",
        "\n",
        "model_type = \"mel_band_roformer\" # @param [\"mel_band_roformer\",\"bs_roformer\",\"mdx23c\",\"vr_arch\",\"htdemucs\",\"scnet\",\"mdx_net\",\"medley_vox\"]\n",
        "\n",
        "from model_info import model_info\n",
        "model_info(model_type)"
      ],
      "metadata": {
        "cellView": "form",
        "id": "QmK2R6skpvR8"
      },
      "execution_count": null,
      "outputs": []
    },
    {
      "cell_type": "code",
      "source": [
        "# @title Инференс\n",
        "\n",
        "%cd /content/mvsepless\n",
        "\n",
        "#@markdown <b>Чтобы получить информацию о моделях, запустите ячейку 'Получить список моделей' с нужным типом модели</b>\n",
        "\n",
        "template = \"NAME_MODEL_STEM\" # @param {\"type\":\"string\",\"placeholder\":\"Шаблон имени стемов, пример: NAME_MODEL_STEM\"}\n",
        "\n",
        "model_type = \"mel_band_roformer\" # @param [\"mel_band_roformer\",\"bs_roformer\",\"mdx23c\",\"vr_arch\",\"htdemucs\",\"scnet\",\"mdx_net\",\"medley_vox\"]\n",
        "model_name = \"\" # @param {\"type\":\"string\",\"placeholder\":\"Введите имя модели, которое есть в списке моделей (Можно получить список используя ячейку выше)\"}\n",
        "input = \"\" # @param {\"type\":\"string\",\"placeholder\":\"Введите путь к аудиофайлу/папке с аудиофайлами\"}\n",
        "output = \"\" # @param {\"type\":\"string\",\"placeholder\":\"Введите путь к папке сохранения стемов\"}\n",
        "\n",
        "output_format = \"flac\" # @param [\"wav\",\"mp3\",\"flac\"]\n",
        "batch = False # @param {\"type\":\"boolean\"}\n",
        "tta = False\n",
        "select_stems = \"\" # @param {\"type\":\"string\",\"placeholder\":\"Введите стемы, которые хотите сохранить, пример: 'vocals drums' или 'male female karaoke''\"}\n",
        "\n",
        "#@markdown <details>\n",
        "#@markdown <summary><b><u>Описание настроек</u></b></summary>\n",
        "#@markdown\n",
        "#@markdown > * <b><u>template</u></b> - Шаблон для именования результатов разделения.\n",
        "#@markdown >\n",
        "#@markdown >  Существуют три ключа:\n",
        "#@markdown >\n",
        "#@markdown >  > NAME - название оригинального аудио файла (без расширения)\n",
        "#@markdown >\n",
        "#@markdown >  > MODEL - название модели, использованной для разделения на стемы\n",
        "#@markdown >\n",
        "#@markdown >  > STEM - название стема\n",
        "#@markdown >\n",
        "#@markdown >  Пример:\n",
        "#@markdown >\n",
        "#@markdown >  NAME_STEM --> вход_vocals.mp3\n",
        "#@markdown >\n",
        "#@markdown >  > NAME - 'вход'\n",
        "#@markdown >\n",
        "#@markdown >  > STEM - vocals\n",
        "#@markdown >\n",
        "#@markdown >  MODEL_STEM --> mel_band_roformer_aname_4_stems_large_drums.mp3\n",
        "#@markdown >\n",
        "#@markdown >  > MODEL - 'mel_band_roformer_aname_4_stems_large'\n",
        "#@markdown >\n",
        "#@markdown >  > STEM - drums\n",
        "#@markdown >\n",
        "#@markdown >  mvsepless_STEM --> mvsepless_karaoke.mp3\n",
        "#@markdown >\n",
        "#@markdown >  > mvsepless - mvsepless (кастомное имя)\n",
        "#@markdown >\n",
        "#@markdown >  > STEM - karaoke\n",
        "#@markdown >\n",
        "#@markdown >  <b>Не работает с моделями на архитектуре Medley-Vox</b>\n",
        "#@markdown\n",
        "#@markdown > * <b><u>batch</u></b> - Пакетная обработка. Включается при batch = True\n",
        "#@markdown >\n",
        "#@markdown >  (В нашем случае если поставлена галочка напротив batch)\n",
        "#@markdown >\n",
        "#@markdown >  Включено - обрабатывается папка с аудиофайлами\n",
        "#@markdown >\n",
        "#@markdown >  Выключено - обрабатывается один аудиофайл\n",
        "#@markdown\n",
        "#@markdown > * <b><u>select_stems</u></b> - Выбор стемов для разделения\n",
        "#@markdown >\n",
        "#@markdown >  Не работает с:\n",
        "#@markdown >\n",
        "#@markdown >  > моделями на архитектуре Medley-Vox\n",
        "#@markdown >\n",
        "#@markdown >  > моделями с целевым инструментом (Target Instrument is not \"No\")\n",
        "#@markdown >\n",
        "#@markdown >  > моделями на архитектуре MDX-NET и VR ARCH, если выбрано больше одного стема\n",
        "#@markdown\n",
        "#@markdown > * <b><u>model_type</u></b> - Тип модели, то есть её архитектура\n",
        "#@markdown\n",
        "#@markdown > * <b><u>model_name</u></b> - Название модели для разделения вокала\n",
        "\n",
        "run_command = f'python multi_infer.py -i \"{input}\" -o {output} -of {output_format}  {(\"--use_tta\" if tta else \"\")} {(\"--batch\" if batch else \"\")} -inst --model_type {model_type} --model_name {model_name} {(f\"--select {select_stems}\" if select_stems != \"\" else \"\")} --template {template}'\n",
        "!$run_command"
      ],
      "metadata": {
        "cellView": "form",
        "id": "V8MI-asTQAz4"
      },
      "execution_count": null,
      "outputs": []
    },
    {
      "cell_type": "markdown",
      "source": [
        "## Замена вокала"
      ],
      "metadata": {
        "id": "PTzLZWnWq3c8"
      }
    },
    {
      "cell_type": "code",
      "source": [
        "\n",
        "%cd /content/mvsepless\n",
        "\n",
        "import os\n",
        "from datetime import datetime\n",
        "from rvc.scripts.voice_conversion import voice_pipeline\n",
        "\n",
        "\n",
        "def voice_conversion(input, model, pitch, ir, fr, rms, f0, hop, prtct, of, f0_min, f0_max, output, template, batch):\n",
        "      if batch:\n",
        "          for filename in os.listdir(input):\n",
        "              file = os.path.join(input, filename)\n",
        "              if os.path.isfile(file):\n",
        "                  file_name = os.path.basename(file)\n",
        "                  namefile = os.path.splitext(file_name)[0]\n",
        "                  time_create_file = datetime.now().strftime(\"%Y%m%d_%H%M%S\")\n",
        "                  output_name = (\n",
        "                      template\n",
        "                      .replace(\"DATETIME\", time_create_file)\n",
        "                      .replace(\"NAME\", namefile)\n",
        "                      .replace(\"MODEL\", model)\n",
        "                      .replace(\"F0METHOD\", f0)\n",
        "                      .replace(\"PITCH\", f\"{pitch}\")\n",
        "                  )\n",
        "                  voice_pipeline(file, model, pitch, ir, fr, rms, f0, hop, prtct, of, f0_min, f0_max, output, output_name)\n",
        "      else:\n",
        "          time_create_file = datetime.now().strftime(\"%Y%m%d_%H%M%S\")\n",
        "          output_name = (\n",
        "              template\n",
        "              .replace(\"DATETIME\", time_create_file)\n",
        "              .replace(\"NAME\", namefile)\n",
        "              .replace(\"MODEL\", model)\n",
        "              .replace(\"F0METHOD\", f0)\n",
        "              .replace(\"PITCH\", pitch)\n",
        "          )\n",
        "          voice_pipeline(input, model, pitch, ir, fr, rms, f0, hop, prtct, of, f0_min, f0_max, output, output_name)\n",
        "\n",
        "\n",
        "song_input = \"\"  # @param {type:\"string\"}\n",
        "model_name = \"\"  # @param {type:\"string\"}\n",
        "batch = False # @param {\"type\":\"boolean\"}\n",
        "\n",
        "# @markdown #### Основные настройки\n",
        "pitch = 0  # @param {type:\"slider\", min:-48, max:48, step:12}\n",
        "index_rate = 0  # @param {type:\"slider\", min:0, max:1, step:0.01}\n",
        "filter_radius = 3  # @param {type:\"slider\", min:0, max:7, step:1}\n",
        "volume_envelope = 0.25  # @param {type:\"slider\", min:0, max:1, step:0.01}\n",
        "\n",
        "# @markdown #### Настройки F0\n",
        "method = \"rmvpe+\"  # @param [\"rmvpe+\", \"mangio-crepe\", \"fcpe\"]\n",
        "hop_length = 128  # @param {type:\"slider\", min:32, max:512, step:16}\n",
        "protect = 0.33  # @param {type:\"slider\", min:0, max:0.5, step:0.01}\n",
        "f0_min = 50  # @param {type:\"slider\", min:0, max:500, step:1}\n",
        "f0_max = 1100  # @param {type:\"slider\", min:100, max:2000, step:10}\n",
        "\n",
        "# @markdown #### Выходные настройки\n",
        "output_format = \"mp3\"  # @param [\"mp3\", \"wav\", \"flac\"]\n",
        "output_path = \"\"  # @param {type:\"string\"}\n",
        "\n",
        "# Задаем шаблон вручную (можно менять порядок и состав)\n",
        "template = \"DATETIME_NAME_PITCH\"  # @param {type:\"string\"}\n",
        "\n",
        "voice_conversion(song_input, model_name, pitch, index_rate, filter_radius, volume_envelope, method, hop_length, protect, output_format, f0_min, f0_max, output_path, template, batch)"
      ],
      "metadata": {
        "cellView": "form",
        "id": "TVQeDhtMPwgU"
      },
      "execution_count": null,
      "outputs": []
    }
  ]
}