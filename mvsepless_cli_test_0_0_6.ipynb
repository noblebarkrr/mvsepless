{
  "nbformat": 4,
  "nbformat_minor": 0,
  "metadata": {
    "colab": {
      "provenance": [],
      "gpuType": "T4"
    },
    "kernelspec": {
      "name": "python3",
      "display_name": "Python 3"
    },
    "language_info": {
      "name": "python"
    },
    "accelerator": "GPU"
  },
  "cells": [
    {
      "cell_type": "code",
      "execution_count": null,
      "metadata": {
        "cellView": "form",
        "id": "o1DdkwZ3GUx5"
      },
      "outputs": [],
      "source": [
        "#@title Установка (3 мин)\n",
        "!git clone https://github.com/noblebarkrr/mvsepless -b test\n",
        "!pip install -r mvsepless/reqs_test.txt\n",
        "!pip install https://github.com/Bebra777228/TrainVocModel-EN/releases/download/fixed-packages/fairseq_fixed-0.13.0-cp311-cp311-linux_x86_64.whl\n",
        "!pip install tensorboardX\n",
        "!wget -O mvsepless/models/medley_vox/pretrained_models/xlsr_53_56k.pt https://dl.fbaipublicfiles.com/fairseq/wav2vec/xlsr_53_56k.pt"
      ]
    },
    {
      "cell_type": "code",
      "source": [
        "#@title Разделить аудио\n",
        "input = \"/content/input\" # @param {\"type\":\"string\"}\n",
        "output = \"/content/output\" # @param {\"type\":\"string\"}\n",
        "model_code = 1130 # @param {\"type\":\"number\"}\n",
        "output_format = \"mp3\" # @param [\"wav\",\"mp3\",\"flac\"]\n",
        "\n",
        "%cd mvsepless\n",
        "!python code_infer.py -i {input} -o {output} -mcode {model_code} -of {output_format} -inst"
      ],
      "metadata": {
        "cellView": "form",
        "id": "yfegNQLbHDnI"
      },
      "execution_count": null,
      "outputs": []
    }
  ]
}
